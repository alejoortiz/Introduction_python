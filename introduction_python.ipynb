{
 "metadata": {
  "language_info": {
   "codemirror_mode": {
    "name": "ipython",
    "version": 3
   },
   "file_extension": ".py",
   "mimetype": "text/x-python",
   "name": "python",
   "nbconvert_exporter": "python",
   "pygments_lexer": "ipython3",
   "version": "3.8.6-final"
  },
  "orig_nbformat": 2,
  "kernelspec": {
   "name": "python3",
   "display_name": "Python 3",
   "language": "python"
  }
 },
 "nbformat": 4,
 "nbformat_minor": 2,
 "cells": [
  {
   "cell_type": "code",
   "execution_count": null,
   "metadata": {},
   "outputs": [],
   "source": [
    "#### variable type number ###\n",
    "\n",
    "a = 1\n",
    "b = 2.5\n",
    "c = 3.14j\n",
    "\n",
    "print(type(a))\n",
    "print(type(b))\n",
    "print(type(c))\n",
    "\n",
    "print(a+b)\n"
   ]
  },
  {
   "cell_type": "code",
   "execution_count": null,
   "metadata": {},
   "outputs": [],
   "source": [
    "### variable type string ###\n",
    "\n",
    "var1 = 'Hello World! '\n",
    "var2 = \"my name is Alejandro\"\n",
    "\n",
    "print(type(var1))\n",
    "print(type(var2))\n",
    "\n",
    "print(var1[0:5])\n",
    "print(var1+var2)\n",
    "\n"
   ]
  },
  {
   "cell_type": "code",
   "execution_count": null,
   "metadata": {},
   "outputs": [],
   "source": [
    "### variable type list ###\n",
    "\n",
    "list_1 = [9,8,7,6,5,4,3,2,1,0]\n",
    "list_2 = ['h','e','l','l','0']\n",
    "\n",
    "\n",
    "print(type(list_1))\n",
    "print(list_1)\n",
    "print(list_2)\n",
    "print(list_1[5:9])\n",
    "\n",
    "### list operations ###\n",
    "\n",
    "print(list_1)\n",
    "list_1.append(10)\n",
    "print(list_1)\n",
    "list_1.pop(0)\n",
    "print(list_1)\n",
    "list_1.remove(5)\n",
    "print(list_1)\n",
    "list_1.sort()\n",
    "print(list_1)\n"
   ]
  },
  {
   "cell_type": "code",
   "execution_count": null,
   "metadata": {},
   "outputs": [],
   "source": [
    "### variable type tuple ###\n",
    "\n",
    "tuple_1 = (1,10,9,8,3)\n",
    "tuple_2 = (\"manzanas\", \"peras\", \"bananos\", \"fresas\")\n",
    "tuple_3 = (True, False, False)\n",
    "\n",
    "print(type(tuple_1))\n",
    "print(tuple_1)\n",
    "print(len(tuple_2))\n",
    "\n",
    "tuple_4 = tuple_1+tuple_2\n",
    "print(tuple_4)\n",
    "\n",
    "print(tuple_4*2)\n"
   ]
  },
  {
   "cell_type": "code",
   "execution_count": null,
   "metadata": {},
   "outputs": [],
   "source": [
    "### variable type dictionary ###\n",
    "\n",
    "mi_carro = {\n",
    "  \"marca\": \"Ferrary\",\n",
    "  \"modelo\": \"Roma\",\n",
    "  \"año\": 2020\n",
    "}\n",
    "\n",
    "print(type(mi_carro))\n",
    "print(mi_carro['marca'])\n",
    "\n",
    "mi_carro['color'] = 'negro'\n",
    "print(mi_carro)\n",
    "\n",
    "mi_carro['modelo'] = 'Portofino'\n",
    "mi_carro['color'] = 'rojo'\n",
    "print(mi_carro)\n",
    "\n",
    "\n",
    "collection_ferrari = {\n",
    "  \"marca\": \"Ferrary\",\n",
    "  \"modelo\": [\"Roma\", \"Portofino\", \"F8spider\", \"F8tributo\", \"SF90stradale\", \"812superfast\",\n",
    "  \"año\": [2020, 2021]\n",
    "}\n"
   ]
  },
  {
   "cell_type": "code",
   "execution_count": 63,
   "metadata": {},
   "outputs": [
    {
     "output_type": "stream",
     "name": "stdout",
     "text": [
      "{'mexico': ['costa_rica'], 'costa_rica': ['mexico', 'colombia', 'venezuela'], 'peru': ['venezuela', 'chile'], 'colombia': ['costa_rica', 'chile'], 'venezuela': ['costa_rica', 'chile', 'peru'], 'chile': ['colombia', 'venezuela', 'peru']}\n\n\n{('mexico', 'costa_rica'): 1, ('costa_rica', 'mexico'): 1, ('costa_rica', 'colombia'): 2, ('colombia', 'costa_rica'): 2, ('costa_rica', 'venezuela'): 1, ('venezuela', 'costa_rica'): 1, ('colombia', 'chile'): 1, ('chile', 'colombia'): 1, ('venezuela', 'chile'): 2, ('chile', 'venezuela'): 2, ('venezuela', 'peru'): 1, ('peru', 'venezuela'): 1, ('peru', 'chile'): 1, ('chile', 'peru'): 1}\n"
     ]
    }
   ],
   "source": [
    "\n",
    "nodes = {\n",
    "    'mexico': ['costa_rica'],\n",
    "    'costa_rica': ['mexico', 'colombia', 'venezuela'],\n",
    "    'peru': ['venezuela', 'chile'], \n",
    "    'colombia': ['costa_rica', 'chile'], \n",
    "    'venezuela': ['costa_rica', 'chile', 'peru'], \n",
    "    'chile': ['colombia', 'venezuela', 'peru']\n",
    "    }\n",
    "\n",
    "links = {\n",
    "    ('mexico', 'costa_rica'): 1,\n",
    "    ('costa_rica', 'mexico'): 1,\n",
    "    ('costa_rica','colombia'): 2,\n",
    "    ('colombia', 'costa_rica'): 2,\n",
    "    ('costa_rica', 'venezuela'): 1,\n",
    "    ('venezuela', 'costa_rica'): 1,\n",
    "    ('colombia', 'chile'): 1,\n",
    "    ('chile', 'colombia'): 1,\n",
    "    ('venezuela', 'chile'): 2,\n",
    "    ('chile', 'venezuela'): 2,\n",
    "    ('venezuela', 'peru'): 1,\n",
    "    ('peru', 'venezuela'): 1,\n",
    "    ('peru', 'chile'): 1,\n",
    "    ('chile', 'peru'): 1\n",
    "    }\n",
    "\n",
    "print(nodes)\n",
    "print(\"\\n\")\n",
    "print(links)"
   ]
  },
  {
   "cell_type": "code",
   "execution_count": null,
   "metadata": {},
   "outputs": [],
   "source": []
  }
 ]
}